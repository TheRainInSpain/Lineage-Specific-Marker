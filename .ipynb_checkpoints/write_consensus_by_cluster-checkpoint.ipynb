{
 "cells": [
  {
   "cell_type": "code",
   "execution_count": 1,
   "id": "38c389ad",
   "metadata": {},
   "outputs": [],
   "source": [
    "import os\n",
    "from Bio import SeqIO"
   ]
  },
  {
   "cell_type": "code",
   "execution_count": null,
   "id": "f735ca78",
   "metadata": {},
   "outputs": [],
   "source": [
    "# This script is to extract the consensus sequences of the clusters that contain large percentage of sequences"
   ]
  },
  {
   "cell_type": "code",
   "execution_count": 2,
   "id": "b1a63b7b",
   "metadata": {},
   "outputs": [
    {
     "name": "stdout",
     "output_type": "stream",
     "text": [
      "['HDloci.Sample1_myrtle.bc25.q15.uc', 'HDloci.Sample2_SARDImyrtle.bc26.q15.uc', 'HDloci.Sample3_WASample1.bc27.q15.uc', 'HDloci.Sample5_Sydleafextractmq1a.bc29.q15.uc']\n"
     ]
    }
   ],
   "source": [
    "uc_files = []\n",
    "uc_file_path = \"uc_file_folder_path/\"\n",
    "for filename in os.listdir(uc_file_path):\n",
    "    file_path = os.path.join(uc_file_path, filename)\n",
    "    if os.path.isfile(file_path):\n",
    "        uc_files.append(filename)\n",
    "uc_files.sort()"
   ]
  },
  {
   "cell_type": "code",
   "execution_count": 3,
   "id": "23d2445f",
   "metadata": {},
   "outputs": [
    {
     "name": "stdout",
     "output_type": "stream",
     "text": [
      "[0, 1, 2, 3, 4, 5, 8, 9, 0, 2, 3, 4, 6, 7, 8, 9, 0, 1, 2, 3, 4, 0, 1, 2, 3, 4, 5, 6, 8]\n"
     ]
    }
   ],
   "source": [
    "cluster_ids = []\n",
    "# cluster_id_selected.txt file contains the ids of each cluster for each files. This file should be built manually.\n",
    "# each line contains a integer which means one id number, the id of each file should be in ascending order\n",
    "# the file name was not appeared in this file, but the ids for the files should appear with files ascending order\n",
    "\n",
    "# due to the algorithm of VSEARCH, each file should contain at least 2 large clusters with low id number\n",
    "f0 = open(\"cluster_id_selected.txt\", \"r\")\n",
    "lines = f0.readlines()\n",
    "f0.close()\n",
    "for i in range(len(lines)):\n",
    "    cluster_ids.append(int(lines[i][:-1]))\n",
    "print(cluster_ids)"
   ]
  },
  {
   "cell_type": "code",
   "execution_count": 4,
   "id": "ea21d20e",
   "metadata": {},
   "outputs": [
    {
     "name": "stdout",
     "output_type": "stream",
     "text": [
      "{'HDloci.Sample1_myrtle.bc25.q15.uc': [0, 1, 2, 3, 4, 5, 8, 9], 'HDloci.Sample2_SARDImyrtle.bc26.q15.uc': [0, 2, 3, 4, 6, 7, 8, 9], 'HDloci.Sample3_WASample1.bc27.q15.uc': [0, 1, 2, 3, 4], 'HDloci.Sample5_Sydleafextractmq1a.bc29.q15.uc': [0, 1, 2, 3, 4, 5, 6, 8]}\n"
     ]
    }
   ],
   "source": [
    "dict_cluster = {}\n",
    "ind_uc_file = 0\n",
    "dict_cluster[uc_files[ind_uc_file]] = [cluster_ids[0]]\n",
    "for i in range(1, len(cluster_ids)):\n",
    "    if cluster_ids[i] < cluster_ids[i-1]:\n",
    "        ind_uc_file += 1\n",
    "        dict_cluster[uc_files[ind_uc_file]] = [cluster_ids[i]]\n",
    "    else:\n",
    "        dict_cluster[uc_files[ind_uc_file]].append(cluster_ids[i])\n",
    "print(dict_cluster)"
   ]
  },
  {
   "cell_type": "code",
   "execution_count": 5,
   "id": "7f2d107b",
   "metadata": {},
   "outputs": [],
   "source": [
    "# this folder path means the consensus .fasta file output by VSEARCH\n",
    "consensus_file_path = \"consensus_file_folder_path/\""
   ]
  },
  {
   "cell_type": "code",
   "execution_count": 6,
   "id": "2888ed22",
   "metadata": {},
   "outputs": [],
   "source": [
    "for file in uc_files:\n",
    "    consensus_file = consensus_file_path + file[:-3] + \".fasta\"\n",
    "    records = list(SeqIO.parse(consensus_file, \"fasta\"))\n",
    "    selected_record = []\n",
    "    for ind in dict_cluster[file]:\n",
    "        selected_record.append(records[ind])\n",
    "    out_file_path = \"output_file_folder/\"\n",
    "    with open(out_file_path + file[:-3] + \".fasta\", \"w\") as output_handle:\n",
    "        SeqIO.write(selected_record, output_handle, \"fasta\")"
   ]
  }
 ],
 "metadata": {
  "kernelspec": {
   "display_name": "Python 3 (ipykernel)",
   "language": "python",
   "name": "python3"
  },
  "language_info": {
   "codemirror_mode": {
    "name": "ipython",
    "version": 3
   },
   "file_extension": ".py",
   "mimetype": "text/x-python",
   "name": "python",
   "nbconvert_exporter": "python",
   "pygments_lexer": "ipython3",
   "version": "3.11.5"
  }
 },
 "nbformat": 4,
 "nbformat_minor": 5
}
