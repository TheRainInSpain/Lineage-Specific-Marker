{
 "cells": [
  {
   "cell_type": "code",
   "execution_count": 1,
   "id": "6a58c891",
   "metadata": {},
   "outputs": [],
   "source": [
    "import pandas as pd\n",
    "import os\n",
    "import subprocess"
   ]
  },
  {
   "cell_type": "code",
   "execution_count": null,
   "id": "781d51b3",
   "metadata": {},
   "outputs": [],
   "source": [
    "# This script is to summarize the cluster information stored in .uc files output by VSEARCH, after running the script\n",
    "# the cluster information would be stored as excel files, which is easier to look at"
   ]
  },
  {
   "cell_type": "code",
   "execution_count": 2,
   "id": "2ce99acf",
   "metadata": {},
   "outputs": [],
   "source": [
    "uc_files = []\n",
    "uc_file_path = \"input_file_folder_path/\"\n",
    "for filename in os.listdir(uc_file_path):\n",
    "    file_path = os.path.join(uc_file_path, filename)\n",
    "    if os.path.isfile(file_path):\n",
    "        uc_files.append(filename)\n",
    "uc_files.sort()"
   ]
  },
  {
   "cell_type": "code",
   "execution_count": null,
   "id": "75623809",
   "metadata": {},
   "outputs": [],
   "source": []
  },
  {
   "cell_type": "code",
   "execution_count": 4,
   "id": "c209f861",
   "metadata": {},
   "outputs": [],
   "source": [
    "def read_uc_file(uc_file_path):\n",
    "    clusters = {}\n",
    "    total_sequences = 0\n",
    "    with open(uc_file_path, 'r') as file:\n",
    "        for line in file:\n",
    "            fields = line.strip().split('\\t')\n",
    "\n",
    "            if fields[0] in ['H', 'S']:\n",
    "                cluster_id = fields[1]\n",
    "                sequence_id = fields[8]\n",
    "                total_sequences += 1\n",
    "                if cluster_id not in clusters:\n",
    "                    clusters[cluster_id] = []\n",
    "\n",
    "                clusters[cluster_id].append(sequence_id)\n",
    "\n",
    "    return clusters, total_sequences"
   ]
  },
  {
   "cell_type": "code",
   "execution_count": 5,
   "id": "89dc06a1",
   "metadata": {},
   "outputs": [],
   "source": [
    "for file in uc_files:\n",
    "    data = {\n",
    "        'cluster id': [],\n",
    "        'sequence number': [],\n",
    "        'sequence percentage': []\n",
    "    }\n",
    "    clusters, total_sequences = read_uc_file(uc_file_path3 + file)\n",
    "    for cluster_id, sequences in clusters.items():\n",
    "        data['cluster id'].append(cluster_id)\n",
    "        data['sequence number'].append(len(sequences))\n",
    "        data['sequence percentage'].append(len(sequences)*100/total_sequences)\n",
    "        \n",
    "    df = pd.DataFrame(data)\n",
    "\n",
    "    # Write to an Excel file\n",
    "    df.to_excel('output_folder_path/'+file[:-3]+\".xlsx\", index=False, engine='openpyxl')"
   ]
  },
  {
   "cell_type": "code",
   "execution_count": null,
   "id": "f626b6c0",
   "metadata": {},
   "outputs": [],
   "source": []
  }
 ],
 "metadata": {
  "kernelspec": {
   "display_name": "Python 3 (ipykernel)",
   "language": "python",
   "name": "python3"
  },
  "language_info": {
   "codemirror_mode": {
    "name": "ipython",
    "version": 3
   },
   "file_extension": ".py",
   "mimetype": "text/x-python",
   "name": "python",
   "nbconvert_exporter": "python",
   "pygments_lexer": "ipython3",
   "version": "3.11.5"
  }
 },
 "nbformat": 4,
 "nbformat_minor": 5
}
