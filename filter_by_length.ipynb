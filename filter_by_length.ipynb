{
 "cells": [
  {
   "cell_type": "code",
   "execution_count": 1,
   "id": "a37d5583",
   "metadata": {},
   "outputs": [],
   "source": [
    "import os\n",
    "from Bio import SeqIO\n"
   ]
  },
  {
   "cell_type": "code",
   "execution_count": 2,
   "id": "b654e2b0",
   "metadata": {},
   "outputs": [
    {
     "name": "stdout",
     "output_type": "stream",
     "text": [
      "['HDloci.Sample10_Sydleafextractmq3b.bc34.q15l500.fastq', 'HDloci.Sample11_Sardisporetrap3-BD06936.bc35.q15l500.fastq', 'HDloci.Sample12_Sardisporetrap12-BD22611.bc36.q15l500.fastq', 'HDloci.Sample13_PCRnegativecontrol.bc37.q15l500.fastq', 'HDloci.Sample1_myrtle.bc25.q15l500.fastq', 'HDloci.Sample2_SARDImyrtle.bc26.q15l500.fastq', 'HDloci.Sample3_WASample1.bc27.q15l500.fastq', 'HDloci.Sample4_WASample2.bc28.q15l500.fastq', 'HDloci.Sample5_Sydleafextractmq1a.bc29.q15l500.fastq', 'HDloci.Sample6_Sydleafextractmq1b.bc30.q15l500.fastq', 'HDloci.Sample7_Sydleafextractmq2a.bc31.q15l500.fastq', 'HDloci.Sample8_Sydleafextractmq2b.bc32.q15l500.fastq', 'HDloci.Sample9_Sydleafextractmq3a.bc33.q15l500.fastq', 'NathansSamples.Sample1.bc17.q15l500.fastq', 'NathansSamples.Sample2.bc18.q15l500.fastq', 'NathansSamples.Sample3.bc19.q15l500.fastq', 'NathansSamples.Sample4.bc20.q15l500.fastq', 'NathansSamples.Sample5.bc21.q15l500.fastq', 'NathansSamples.Sample6.bc22.q15l500.fastq', 'NathansSamples.Sample7.bc23.q15l500.fastq', 'NathansSamples.Sample8.bc24.q15l500.fastq', 'NegativeSelection.Control1.bc06.q15l500.fastq', 'NegativeSelection.Control2.bc09.q15l500.fastq', 'NegativeSelection.Sample1.bc04.q15l500.fastq', 'NegativeSelection.Sample2.bc05.q15l500.fastq', 'NegativeSelection.Sample3.bc07.q15l500.fastq', 'NegativeSelection.Sample4.bc08.q15l500.fastq', 'Pstspores.Sample1.bc01.q15l500.fastq', 'Pstspores.Sample2.bc02.q15l500.fastq', 'Pstspores.Sample3.bc03.q15l500.fastq', 'cDNA.Sample1.bc10.q15l500.fastq', 'cDNA.Sample2.bc11.q15l500.fastq', 'gblock.Sample1.bc12.q15l500.fastq', 'gblock.Sample2.bc13.q15l500.fastq']\n"
     ]
    }
   ],
   "source": [
    "fasta_path = \"input_reads_folder/\"\n",
    "fasta_files = []\n",
    "for filename in os.listdir(fasta_path):\n",
    "    file_path = os.path.join(fasta_path, filename)\n",
    "    if os.path.isfile(file_path):\n",
    "        fasta_files.append(filename)\n",
    "fasta_files.sort()\n",
    "print(fasta_files)"
   ]
  },
  {
   "cell_type": "raw",
   "id": "9e6d0374",
   "metadata": {},
   "source": [
    "HD1 1500-1800\n",
    "HD2 1300-1500\n",
    "Full 2800-3300"
   ]
  },
  {
   "cell_type": "code",
   "execution_count": 3,
   "id": "7e0a55e3",
   "metadata": {},
   "outputs": [
    {
     "data": {
      "text/plain": [
       "14"
      ]
     },
     "execution_count": 3,
     "metadata": {},
     "output_type": "execute_result"
    }
   ],
   "source": []
  },
  {
   "cell_type": "code",
   "execution_count": 4,
   "id": "42f45ac4",
   "metadata": {},
   "outputs": [],
   "source": [
    "output_path = \"output_folder_path/\"\n",
    "for file in fasta_files:\n",
    "    new_records = []\n",
    "    records = list(SeqIO.parse(fasta_path + file, \"fastq\"))\n",
    "    for record in records:\n",
    "        # may be changed, depended on which region you want to filter\n",
    "        if len(record.seq)>=2800 and len(record.seq)<=3300:\n",
    "            new_records.append(record)\n",
    "    with open(output_path + file[:-14] + \"_long.q15.fasta\", \"w\") as output_handle:\n",
    "        SeqIO.write(new_records, output_handle, \"fasta\")\n"
   ]
  },
  {
   "cell_type": "code",
   "execution_count": null,
   "id": "05239d64",
   "metadata": {},
   "outputs": [],
   "source": []
  }
 ],
 "metadata": {
  "kernelspec": {
   "display_name": "Python 3 (ipykernel)",
   "language": "python",
   "name": "python3"
  },
  "language_info": {
   "codemirror_mode": {
    "name": "ipython",
    "version": 3
   },
   "file_extension": ".py",
   "mimetype": "text/x-python",
   "name": "python",
   "nbconvert_exporter": "python",
   "pygments_lexer": "ipython3",
   "version": "3.11.5"
  }
 },
 "nbformat": 4,
 "nbformat_minor": 5
}
